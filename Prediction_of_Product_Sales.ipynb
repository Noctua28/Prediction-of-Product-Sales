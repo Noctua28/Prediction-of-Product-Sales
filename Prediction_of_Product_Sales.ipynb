{
  "nbformat": 4,
  "nbformat_minor": 0,
  "metadata": {
    "colab": {
      "provenance": [],
      "authorship_tag": "ABX9TyPdDN1AdqpO0z9hTjVN5c7I",
      "include_colab_link": true
    },
    "kernelspec": {
      "name": "python3",
      "display_name": "Python 3"
    },
    "language_info": {
      "name": "python"
    }
  },
  "cells": [
    {
      "cell_type": "markdown",
      "metadata": {
        "id": "view-in-github",
        "colab_type": "text"
      },
      "source": [
        "<a href=\"https://colab.research.google.com/github/Noctua28/Prediction-of-Product-Sales/blob/main/Prediction_of_Product_Sales.ipynb\" target=\"_parent\"><img src=\"https://colab.research.google.com/assets/colab-badge.svg\" alt=\"Open In Colab\"/></a>"
      ]
    },
    {
      "cell_type": "markdown",
      "source": [
        "# Prediction of Product Sales\n",
        "\n",
        "Aharon Brenes Fallas"
      ],
      "metadata": {
        "id": "w5nFixCVm-Nw"
      }
    },
    {
      "cell_type": "markdown",
      "source": [
        "#Project Overview"
      ],
      "metadata": {
        "id": "0q6vA6htnLFn"
      }
    },
    {
      "cell_type": "markdown",
      "source": [
        "# Load and Inspect Data"
      ],
      "metadata": {
        "id": "Bj9E87N_nl6W"
      }
    },
    {
      "cell_type": "code",
      "source": [],
      "metadata": {
        "id": "pzABHFTgobsM"
      },
      "execution_count": null,
      "outputs": []
    },
    {
      "cell_type": "markdown",
      "source": [
        "# Clean Data"
      ],
      "metadata": {
        "id": "_GnlTK2JocNy"
      }
    },
    {
      "cell_type": "code",
      "source": [],
      "metadata": {
        "id": "H-2YnPFuogG2"
      },
      "execution_count": null,
      "outputs": []
    },
    {
      "cell_type": "markdown",
      "source": [
        "# Exploratory Data Analysis"
      ],
      "metadata": {
        "id": "EhWnzVCYoglm"
      }
    },
    {
      "cell_type": "code",
      "source": [],
      "metadata": {
        "id": "vkHu5T3hpEaF"
      },
      "execution_count": null,
      "outputs": []
    },
    {
      "cell_type": "markdown",
      "source": [
        "# Explanatory Data Analysis"
      ],
      "metadata": {
        "id": "Bdwz5K6NpFJW"
      }
    },
    {
      "cell_type": "code",
      "source": [],
      "metadata": {
        "id": "qCNDzN-hpMkl"
      },
      "execution_count": null,
      "outputs": []
    }
  ]
}