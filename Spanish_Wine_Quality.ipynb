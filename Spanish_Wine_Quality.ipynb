{
  "nbformat": 4,
  "nbformat_minor": 0,
  "metadata": {
    "colab": {
      "provenance": [],
      "mount_file_id": "https://github.com/Noctua28/Machine-Learning-Classification/blob/main/Spanish_Wine_Quality.ipynb",
      "authorship_tag": "ABX9TyNmjw7s0xaXKvudaEdU+mrh",
      "include_colab_link": true
    },
    "kernelspec": {
      "name": "python3",
      "display_name": "Python 3"
    },
    "language_info": {
      "name": "python"
    }
  },
  "cells": [
    {
      "cell_type": "markdown",
      "metadata": {
        "id": "view-in-github",
        "colab_type": "text"
      },
      "source": [
        "<a href=\"https://colab.research.google.com/github/Noctua28/Prediction-of-Product-Sales/blob/main/Spanish_Wine_Quality.ipynb\" target=\"_parent\"><img src=\"https://colab.research.google.com/assets/colab-badge.svg\" alt=\"Open In Colab\"/></a>"
      ]
    },
    {
      "cell_type": "markdown",
      "source": [
        "## Data Source:\n",
        "\n",
        "### [Spanish Wine Quality](https://www.kaggle.com/datasets/fedesoriano/spanish-wine-quality-dataset?resource=download) by Fedesoriano from Kaggle\n"
      ],
      "metadata": {
        "id": "0Jl3o_w2d_oW"
      }
    },
    {
      "cell_type": "markdown",
      "source": [
        "## Data Dictionary:\n",
        "\n",
        "\n",
        "\n",
        "*   **Winery**: Winery Name\n",
        "\n",
        "*   **Wine**: Name of the wine\n",
        "\n",
        "*   **Year**: Year in which the grapes were harvested\n",
        "*   **Rating**: Average rating given to the wine by the users (in a scale of 1 to 5)\n",
        "\n",
        "\n",
        "*   **Num_reviews**: Number of users that reviewed the wine\n",
        "\n",
        "\n",
        "*   **Country**: Country of origin\n",
        "\n",
        "*   **Region**: Region of the wine\n",
        "*   **Price**: Price in euros\n",
        "\n",
        "*   **Type**: Wine variety\n",
        "*   **Body**: Body score, defined as the richness and weight of the wine in your mout (in a scale of 1 to 5)\n",
        "\n",
        "*   **Acidity**: Acidity score, defines as wine's 'pucker' or tartness, it's what makes a wine refreshing (in a scale of 1 to 5)\n",
        "\n",
        "\n",
        "\n",
        "\n",
        "\n",
        "\n",
        "\n",
        "\n"
      ],
      "metadata": {
        "id": "cWm_v9W0e4v2"
      }
    },
    {
      "cell_type": "markdown",
      "source": [
        "# Target:\n",
        "\n",
        "### The target variable of this dataset is to predict the quality of the wine."
      ],
      "metadata": {
        "id": "1V04Xi2psO8S"
      }
    },
    {
      "cell_type": "markdown",
      "source": [
        "# Regression or Classification?\n",
        "\n",
        "This will be treated as a regression to predict the quality of the wine to make financial decisions on investment in supply and production."
      ],
      "metadata": {
        "id": "i2jW5-dGoIGN"
      }
    },
    {
      "cell_type": "markdown",
      "source": [
        "## Loading Dataset:"
      ],
      "metadata": {
        "id": "mpVDvdoOfe8u"
      }
    },
    {
      "cell_type": "code",
      "source": [
        "# Import Libraries\n",
        "\n",
        "import pandas as pd\n",
        "import seaborn as sns\n",
        "import matplotlib.pyplot as plt\n",
        "import numpy as np\n",
        "from sklearn.model_selection import train_test_split\n",
        "from sklearn.preprocessing import StandardScaler\n",
        "from sklearn.compose import ColumnTransformer\n",
        "from sklearn.pipeline import Pipeline\n",
        "from sklearn.linear_model import LinearRegression\n",
        "from sklearn.tree import DecisionTreeRegressor\n",
        "from sklearn.ensemble import RandomForestRegressor\n",
        "from sklearn.metrics import mean_squared_error\n",
        "from sklearn.model_selection import GridSearchCV\n",
        "from sklearn.decomposition import PCA\n",
        "from sklearn.pipeline import make_pipeline\n",
        "from sklearn.preprocessing import OneHotEncoder\n",
        "from sklearn.metrics import mean_squared_error, mean_absolute_error, r2_score\n",
        "from sklearn.impute import KNNImputer\n",
        "from sklearn.decomposition import TruncatedSVD"
      ],
      "metadata": {
        "id": "6MkHeS-DYiiI"
      },
      "execution_count": 71,
      "outputs": []
    },
    {
      "cell_type": "code",
      "source": [
        "# Loading dataset\n",
        "df = pd.read_csv('/content/drive/MyDrive/Data Science Boot Camp/Machine Learning Introduction/W3 - Classification Models/wines_SPA.csv')\n",
        "print(df.head(10))"
      ],
      "metadata": {
        "colab": {
          "base_uri": "https://localhost:8080/"
        },
        "id": "e0gTl2vRflBV",
        "outputId": "fb610dde-e0bf-4172-98b1-6da5a9287283"
      },
      "execution_count": 72,
      "outputs": [
        {
          "output_type": "stream",
          "name": "stdout",
          "text": [
            "          winery                            wine  year  rating  num_reviews  \\\n",
            "0  Teso La Monja                           Tinto  2013     4.9           58   \n",
            "1         Artadi                   Vina El Pison  2018     4.9           31   \n",
            "2   Vega Sicilia                           Unico  2009     4.8         1793   \n",
            "3   Vega Sicilia                           Unico  1999     4.8         1705   \n",
            "4   Vega Sicilia                           Unico  1996     4.8         1309   \n",
            "5   Vega Sicilia                           Unico  1998     4.8         1209   \n",
            "6   Vega Sicilia                           Unico  2010     4.8         1201   \n",
            "7   Vega Sicilia                           Unico  1995     4.8          926   \n",
            "8   Vega Sicilia  Unico Reserva Especial Edicion  2015     4.8          643   \n",
            "9   Vega Sicilia                           Unico  2011     4.8          630   \n",
            "\n",
            "  country            region   price                  type  body  acidity  \n",
            "0  Espana              Toro  995.00              Toro Red   5.0      3.0  \n",
            "1  Espana    Vino de Espana  313.50           Tempranillo   4.0      2.0  \n",
            "2  Espana  Ribera del Duero  324.95  Ribera Del Duero Red   5.0      3.0  \n",
            "3  Espana  Ribera del Duero  692.96  Ribera Del Duero Red   5.0      3.0  \n",
            "4  Espana  Ribera del Duero  778.06  Ribera Del Duero Red   5.0      3.0  \n",
            "5  Espana  Ribera del Duero  490.00  Ribera Del Duero Red   5.0      3.0  \n",
            "6  Espana  Ribera del Duero  349.00  Ribera Del Duero Red   5.0      3.0  \n",
            "7  Espana  Ribera del Duero  810.89  Ribera Del Duero Red   5.0      3.0  \n",
            "8  Espana  Ribera del Duero  345.00  Ribera Del Duero Red   5.0      3.0  \n",
            "9  Espana  Ribera del Duero  315.00  Ribera Del Duero Red   5.0      3.0  \n"
          ]
        }
      ]
    },
    {
      "cell_type": "markdown",
      "source": [
        "# Dataset Review, Clean up, & Preparation"
      ],
      "metadata": {
        "id": "MW-LSMzbjJ71"
      }
    },
    {
      "cell_type": "code",
      "source": [
        "# Feature analysis\n",
        "num_features = df.shape[1]\n",
        "print(\"Number of Features\", num_features)"
      ],
      "metadata": {
        "id": "J4Uv9yuXf3V5",
        "outputId": "7f9ccd33-c33b-4242-bd13-7b6d78b916f0",
        "colab": {
          "base_uri": "https://localhost:8080/"
        }
      },
      "execution_count": 73,
      "outputs": [
        {
          "output_type": "stream",
          "name": "stdout",
          "text": [
            "Number of Features 11\n"
          ]
        }
      ]
    },
    {
      "cell_type": "code",
      "source": [
        "# Data depth analysis\n",
        "num_rows = df.shape[0]\n",
        "print(\"Number of rows\", num_rows)"
      ],
      "metadata": {
        "id": "17sD8qKcf5cA",
        "outputId": "f2f1125e-0a99-4d6f-e2eb-8bb58455367f",
        "colab": {
          "base_uri": "https://localhost:8080/"
        }
      },
      "execution_count": 74,
      "outputs": [
        {
          "output_type": "stream",
          "name": "stdout",
          "text": [
            "Number of rows 7500\n"
          ]
        }
      ]
    },
    {
      "cell_type": "code",
      "source": [
        "# Data type analysis\n",
        "\n",
        "df.info()"
      ],
      "metadata": {
        "id": "t-kdSuqKf7la",
        "outputId": "d5b907ff-fbc1-4cb9-fd45-fd2d46833e15",
        "colab": {
          "base_uri": "https://localhost:8080/"
        }
      },
      "execution_count": 75,
      "outputs": [
        {
          "output_type": "stream",
          "name": "stdout",
          "text": [
            "<class 'pandas.core.frame.DataFrame'>\n",
            "RangeIndex: 7500 entries, 0 to 7499\n",
            "Data columns (total 11 columns):\n",
            " #   Column       Non-Null Count  Dtype  \n",
            "---  ------       --------------  -----  \n",
            " 0   winery       7500 non-null   object \n",
            " 1   wine         7500 non-null   object \n",
            " 2   year         7498 non-null   object \n",
            " 3   rating       7500 non-null   float64\n",
            " 4   num_reviews  7500 non-null   int64  \n",
            " 5   country      7500 non-null   object \n",
            " 6   region       7500 non-null   object \n",
            " 7   price        7500 non-null   float64\n",
            " 8   type         6955 non-null   object \n",
            " 9   body         6331 non-null   float64\n",
            " 10  acidity      6331 non-null   float64\n",
            "dtypes: float64(4), int64(1), object(6)\n",
            "memory usage: 644.7+ KB\n"
          ]
        }
      ]
    },
    {
      "cell_type": "code",
      "source": [
        "# Investigating why year is object when it should be int64\n",
        "print(df['year'].unique())\n",
        "\n",
        "# Addressing issue with the year col\n",
        "\n",
        "df['year'] = df['year'].replace('N.V.', np.nan).astype(float).astype('Int64')\n",
        "\n",
        "print(df.dtypes)"
      ],
      "metadata": {
        "id": "43gcP0RClvL0",
        "outputId": "1f30dfc6-6086-4d88-f4c8-1e176af7a834",
        "colab": {
          "base_uri": "https://localhost:8080/"
        }
      },
      "execution_count": 76,
      "outputs": [
        {
          "output_type": "stream",
          "name": "stdout",
          "text": [
            "['2013' '2018' '2009' '1999' '1996' '1998' '2010' '1995' '2015' '2011'\n",
            " '2016' '1970' '1946' '1962' '2019' '2004' 'N.V.' '1931' '1979' '2005'\n",
            " '2020' '2014' '1985' '1929' '2007' '2012' '2017' '2008' nan '2006' '2000'\n",
            " '2003' '2002' '1991' '1994' '1990' '1989' '1987' '1986' '1981' '2001'\n",
            " '1968' '1964' '1982' '1974' '1983' '1955' '1980' '1972' '1953' '1958'\n",
            " '1942' '1965' '1992' '1973' '1997' '1967' '1975' '1910' '1961' '1954'\n",
            " '1988' '1969' '1951' '1928' '1976' '1949' '2021' '1959' '1922' '1978'\n",
            " '1925']\n",
            "winery          object\n",
            "wine            object\n",
            "year             Int64\n",
            "rating         float64\n",
            "num_reviews      int64\n",
            "country         object\n",
            "region          object\n",
            "price          float64\n",
            "type            object\n",
            "body           float64\n",
            "acidity        float64\n",
            "dtype: object\n"
          ]
        }
      ]
    },
    {
      "cell_type": "code",
      "source": [
        "# Dropping the 'country' column as all wines are from Spain and this does not provide value to our work\n",
        "\n",
        "df = df.drop('country', axis=1)\n",
        "\n",
        "# Dropping the 'wine; column as it has a lot of values and low frequency of ocurrance.\n",
        "\n",
        "df = df.drop('wine', axis=1)\n",
        "\n",
        "df.head(10)"
      ],
      "metadata": {
        "id": "EHWxRKURgKTZ",
        "outputId": "73b7b39c-42bf-4bbd-f2cb-b70b22ae07f9",
        "colab": {
          "base_uri": "https://localhost:8080/",
          "height": 363
        }
      },
      "execution_count": 77,
      "outputs": [
        {
          "output_type": "execute_result",
          "data": {
            "text/plain": [
              "          winery  year  rating  num_reviews            region   price  \\\n",
              "0  Teso La Monja  2013     4.9           58              Toro  995.00   \n",
              "1         Artadi  2018     4.9           31    Vino de Espana  313.50   \n",
              "2   Vega Sicilia  2009     4.8         1793  Ribera del Duero  324.95   \n",
              "3   Vega Sicilia  1999     4.8         1705  Ribera del Duero  692.96   \n",
              "4   Vega Sicilia  1996     4.8         1309  Ribera del Duero  778.06   \n",
              "5   Vega Sicilia  1998     4.8         1209  Ribera del Duero  490.00   \n",
              "6   Vega Sicilia  2010     4.8         1201  Ribera del Duero  349.00   \n",
              "7   Vega Sicilia  1995     4.8          926  Ribera del Duero  810.89   \n",
              "8   Vega Sicilia  2015     4.8          643  Ribera del Duero  345.00   \n",
              "9   Vega Sicilia  2011     4.8          630  Ribera del Duero  315.00   \n",
              "\n",
              "                   type  body  acidity  \n",
              "0              Toro Red   5.0      3.0  \n",
              "1           Tempranillo   4.0      2.0  \n",
              "2  Ribera Del Duero Red   5.0      3.0  \n",
              "3  Ribera Del Duero Red   5.0      3.0  \n",
              "4  Ribera Del Duero Red   5.0      3.0  \n",
              "5  Ribera Del Duero Red   5.0      3.0  \n",
              "6  Ribera Del Duero Red   5.0      3.0  \n",
              "7  Ribera Del Duero Red   5.0      3.0  \n",
              "8  Ribera Del Duero Red   5.0      3.0  \n",
              "9  Ribera Del Duero Red   5.0      3.0  "
            ],
            "text/html": [
              "\n",
              "  <div id=\"df-9333c433-2930-4f90-9dad-38c0be57b5ff\">\n",
              "    <div class=\"colab-df-container\">\n",
              "      <div>\n",
              "<style scoped>\n",
              "    .dataframe tbody tr th:only-of-type {\n",
              "        vertical-align: middle;\n",
              "    }\n",
              "\n",
              "    .dataframe tbody tr th {\n",
              "        vertical-align: top;\n",
              "    }\n",
              "\n",
              "    .dataframe thead th {\n",
              "        text-align: right;\n",
              "    }\n",
              "</style>\n",
              "<table border=\"1\" class=\"dataframe\">\n",
              "  <thead>\n",
              "    <tr style=\"text-align: right;\">\n",
              "      <th></th>\n",
              "      <th>winery</th>\n",
              "      <th>year</th>\n",
              "      <th>rating</th>\n",
              "      <th>num_reviews</th>\n",
              "      <th>region</th>\n",
              "      <th>price</th>\n",
              "      <th>type</th>\n",
              "      <th>body</th>\n",
              "      <th>acidity</th>\n",
              "    </tr>\n",
              "  </thead>\n",
              "  <tbody>\n",
              "    <tr>\n",
              "      <th>0</th>\n",
              "      <td>Teso La Monja</td>\n",
              "      <td>2013</td>\n",
              "      <td>4.9</td>\n",
              "      <td>58</td>\n",
              "      <td>Toro</td>\n",
              "      <td>995.00</td>\n",
              "      <td>Toro Red</td>\n",
              "      <td>5.0</td>\n",
              "      <td>3.0</td>\n",
              "    </tr>\n",
              "    <tr>\n",
              "      <th>1</th>\n",
              "      <td>Artadi</td>\n",
              "      <td>2018</td>\n",
              "      <td>4.9</td>\n",
              "      <td>31</td>\n",
              "      <td>Vino de Espana</td>\n",
              "      <td>313.50</td>\n",
              "      <td>Tempranillo</td>\n",
              "      <td>4.0</td>\n",
              "      <td>2.0</td>\n",
              "    </tr>\n",
              "    <tr>\n",
              "      <th>2</th>\n",
              "      <td>Vega Sicilia</td>\n",
              "      <td>2009</td>\n",
              "      <td>4.8</td>\n",
              "      <td>1793</td>\n",
              "      <td>Ribera del Duero</td>\n",
              "      <td>324.95</td>\n",
              "      <td>Ribera Del Duero Red</td>\n",
              "      <td>5.0</td>\n",
              "      <td>3.0</td>\n",
              "    </tr>\n",
              "    <tr>\n",
              "      <th>3</th>\n",
              "      <td>Vega Sicilia</td>\n",
              "      <td>1999</td>\n",
              "      <td>4.8</td>\n",
              "      <td>1705</td>\n",
              "      <td>Ribera del Duero</td>\n",
              "      <td>692.96</td>\n",
              "      <td>Ribera Del Duero Red</td>\n",
              "      <td>5.0</td>\n",
              "      <td>3.0</td>\n",
              "    </tr>\n",
              "    <tr>\n",
              "      <th>4</th>\n",
              "      <td>Vega Sicilia</td>\n",
              "      <td>1996</td>\n",
              "      <td>4.8</td>\n",
              "      <td>1309</td>\n",
              "      <td>Ribera del Duero</td>\n",
              "      <td>778.06</td>\n",
              "      <td>Ribera Del Duero Red</td>\n",
              "      <td>5.0</td>\n",
              "      <td>3.0</td>\n",
              "    </tr>\n",
              "    <tr>\n",
              "      <th>5</th>\n",
              "      <td>Vega Sicilia</td>\n",
              "      <td>1998</td>\n",
              "      <td>4.8</td>\n",
              "      <td>1209</td>\n",
              "      <td>Ribera del Duero</td>\n",
              "      <td>490.00</td>\n",
              "      <td>Ribera Del Duero Red</td>\n",
              "      <td>5.0</td>\n",
              "      <td>3.0</td>\n",
              "    </tr>\n",
              "    <tr>\n",
              "      <th>6</th>\n",
              "      <td>Vega Sicilia</td>\n",
              "      <td>2010</td>\n",
              "      <td>4.8</td>\n",
              "      <td>1201</td>\n",
              "      <td>Ribera del Duero</td>\n",
              "      <td>349.00</td>\n",
              "      <td>Ribera Del Duero Red</td>\n",
              "      <td>5.0</td>\n",
              "      <td>3.0</td>\n",
              "    </tr>\n",
              "    <tr>\n",
              "      <th>7</th>\n",
              "      <td>Vega Sicilia</td>\n",
              "      <td>1995</td>\n",
              "      <td>4.8</td>\n",
              "      <td>926</td>\n",
              "      <td>Ribera del Duero</td>\n",
              "      <td>810.89</td>\n",
              "      <td>Ribera Del Duero Red</td>\n",
              "      <td>5.0</td>\n",
              "      <td>3.0</td>\n",
              "    </tr>\n",
              "    <tr>\n",
              "      <th>8</th>\n",
              "      <td>Vega Sicilia</td>\n",
              "      <td>2015</td>\n",
              "      <td>4.8</td>\n",
              "      <td>643</td>\n",
              "      <td>Ribera del Duero</td>\n",
              "      <td>345.00</td>\n",
              "      <td>Ribera Del Duero Red</td>\n",
              "      <td>5.0</td>\n",
              "      <td>3.0</td>\n",
              "    </tr>\n",
              "    <tr>\n",
              "      <th>9</th>\n",
              "      <td>Vega Sicilia</td>\n",
              "      <td>2011</td>\n",
              "      <td>4.8</td>\n",
              "      <td>630</td>\n",
              "      <td>Ribera del Duero</td>\n",
              "      <td>315.00</td>\n",
              "      <td>Ribera Del Duero Red</td>\n",
              "      <td>5.0</td>\n",
              "      <td>3.0</td>\n",
              "    </tr>\n",
              "  </tbody>\n",
              "</table>\n",
              "</div>\n",
              "      <button class=\"colab-df-convert\" onclick=\"convertToInteractive('df-9333c433-2930-4f90-9dad-38c0be57b5ff')\"\n",
              "              title=\"Convert this dataframe to an interactive table.\"\n",
              "              style=\"display:none;\">\n",
              "        \n",
              "  <svg xmlns=\"http://www.w3.org/2000/svg\" height=\"24px\"viewBox=\"0 0 24 24\"\n",
              "       width=\"24px\">\n",
              "    <path d=\"M0 0h24v24H0V0z\" fill=\"none\"/>\n",
              "    <path d=\"M18.56 5.44l.94 2.06.94-2.06 2.06-.94-2.06-.94-.94-2.06-.94 2.06-2.06.94zm-11 1L8.5 8.5l.94-2.06 2.06-.94-2.06-.94L8.5 2.5l-.94 2.06-2.06.94zm10 10l.94 2.06.94-2.06 2.06-.94-2.06-.94-.94-2.06-.94 2.06-2.06.94z\"/><path d=\"M17.41 7.96l-1.37-1.37c-.4-.4-.92-.59-1.43-.59-.52 0-1.04.2-1.43.59L10.3 9.45l-7.72 7.72c-.78.78-.78 2.05 0 2.83L4 21.41c.39.39.9.59 1.41.59.51 0 1.02-.2 1.41-.59l7.78-7.78 2.81-2.81c.8-.78.8-2.07 0-2.86zM5.41 20L4 18.59l7.72-7.72 1.47 1.35L5.41 20z\"/>\n",
              "  </svg>\n",
              "      </button>\n",
              "      \n",
              "  <style>\n",
              "    .colab-df-container {\n",
              "      display:flex;\n",
              "      flex-wrap:wrap;\n",
              "      gap: 12px;\n",
              "    }\n",
              "\n",
              "    .colab-df-convert {\n",
              "      background-color: #E8F0FE;\n",
              "      border: none;\n",
              "      border-radius: 50%;\n",
              "      cursor: pointer;\n",
              "      display: none;\n",
              "      fill: #1967D2;\n",
              "      height: 32px;\n",
              "      padding: 0 0 0 0;\n",
              "      width: 32px;\n",
              "    }\n",
              "\n",
              "    .colab-df-convert:hover {\n",
              "      background-color: #E2EBFA;\n",
              "      box-shadow: 0px 1px 2px rgba(60, 64, 67, 0.3), 0px 1px 3px 1px rgba(60, 64, 67, 0.15);\n",
              "      fill: #174EA6;\n",
              "    }\n",
              "\n",
              "    [theme=dark] .colab-df-convert {\n",
              "      background-color: #3B4455;\n",
              "      fill: #D2E3FC;\n",
              "    }\n",
              "\n",
              "    [theme=dark] .colab-df-convert:hover {\n",
              "      background-color: #434B5C;\n",
              "      box-shadow: 0px 1px 3px 1px rgba(0, 0, 0, 0.15);\n",
              "      filter: drop-shadow(0px 1px 2px rgba(0, 0, 0, 0.3));\n",
              "      fill: #FFFFFF;\n",
              "    }\n",
              "  </style>\n",
              "\n",
              "      <script>\n",
              "        const buttonEl =\n",
              "          document.querySelector('#df-9333c433-2930-4f90-9dad-38c0be57b5ff button.colab-df-convert');\n",
              "        buttonEl.style.display =\n",
              "          google.colab.kernel.accessAllowed ? 'block' : 'none';\n",
              "\n",
              "        async function convertToInteractive(key) {\n",
              "          const element = document.querySelector('#df-9333c433-2930-4f90-9dad-38c0be57b5ff');\n",
              "          const dataTable =\n",
              "            await google.colab.kernel.invokeFunction('convertToInteractive',\n",
              "                                                     [key], {});\n",
              "          if (!dataTable) return;\n",
              "\n",
              "          const docLinkHtml = 'Like what you see? Visit the ' +\n",
              "            '<a target=\"_blank\" href=https://colab.research.google.com/notebooks/data_table.ipynb>data table notebook</a>'\n",
              "            + ' to learn more about interactive tables.';\n",
              "          element.innerHTML = '';\n",
              "          dataTable['output_type'] = 'display_data';\n",
              "          await google.colab.output.renderOutput(dataTable, element);\n",
              "          const docLink = document.createElement('div');\n",
              "          docLink.innerHTML = docLinkHtml;\n",
              "          element.appendChild(docLink);\n",
              "        }\n",
              "      </script>\n",
              "    </div>\n",
              "  </div>\n",
              "  "
            ]
          },
          "metadata": {},
          "execution_count": 77
        }
      ]
    },
    {
      "cell_type": "code",
      "source": [
        "# Check for duplicated rows\n",
        "duplicated_rows = df.duplicated()\n",
        "\n",
        "# Print the duplicated rows\n",
        "print(\"Duplicated Rows:\")\n",
        "print(df[duplicated_rows])\n",
        "\n",
        "## The duplicates are due to records of the same wine from the same winery but with different reviews."
      ],
      "metadata": {
        "colab": {
          "base_uri": "https://localhost:8080/"
        },
        "id": "v7MB_eRqkk7I",
        "outputId": "bf273fcd-9655-489f-e6ad-afe6df3340c6"
      },
      "execution_count": 78,
      "outputs": [
        {
          "output_type": "stream",
          "name": "stdout",
          "text": [
            "Duplicated Rows:\n",
            "                    winery  year  rating  num_reviews            region  \\\n",
            "1800        Bodega Tameran  2020     4.3           27      Gran Canaria   \n",
            "2036        Ramon do Casar  2020     4.2          407           Ribeiro   \n",
            "2039              Binigrau  2020     4.2          404          Mallorca   \n",
            "2050          La Vicalanda  2015     4.2          420             Rioja   \n",
            "2051       Enrique Mendoza  2017     4.2          420          Alicante   \n",
            "...                    ...   ...     ...          ...               ...   \n",
            "7495               Contino  2016     4.2          392             Rioja   \n",
            "7496  Conreria d'Scala Dei  2018     4.2          390          Priorato   \n",
            "7497           Mustiguillo  2017     4.2          390      El Terrerazo   \n",
            "7498           Matarromera  2011     4.2          389  Ribera del Duero   \n",
            "7499              Sei Solo  2016     4.2          388  Ribera del Duero   \n",
            "\n",
            "      price                  type  body  acidity  \n",
            "1800  29.75                   NaN   NaN      NaN  \n",
            "2036  11.95                   NaN   NaN      NaN  \n",
            "2039  19.90                   NaN   NaN      NaN  \n",
            "2050  17.50             Rioja Red   4.0      3.0  \n",
            "2051  18.90                   Red   4.0      3.0  \n",
            "...     ...                   ...   ...      ...  \n",
            "7495  19.98             Rioja Red   4.0      3.0  \n",
            "7496  16.76           Priorat Red   4.0      3.0  \n",
            "7497  24.45                   Red   4.0      3.0  \n",
            "7498  64.50  Ribera Del Duero Red   5.0      3.0  \n",
            "7499  31.63  Ribera Del Duero Red   5.0      3.0  \n",
            "\n",
            "[5452 rows x 9 columns]\n"
          ]
        }
      ]
    },
    {
      "cell_type": "code",
      "source": [
        "# Check for missing values\n",
        "missing_values = df.isnull().sum()\n",
        "\n",
        "# Addressing missing values\n",
        "\n",
        "imputer = KNNImputer(n_neighbors=5)\n",
        "\n",
        "df[['year', 'body', 'acidity']] = imputer.fit_transform(df[['year', 'body', 'acidity']])\n",
        "\n",
        "# For 'type', we will fill the missing values with the most frequent value\n",
        "df['type'] = df['type'].fillna(df['type'].mode()[0])\n",
        "\n",
        "print(missing_values)"
      ],
      "metadata": {
        "id": "6RjByb0Sjnll",
        "outputId": "a7ea5281-09d4-421b-eb5e-65e0dcea7a49",
        "colab": {
          "base_uri": "https://localhost:8080/"
        }
      },
      "execution_count": 79,
      "outputs": [
        {
          "output_type": "stream",
          "name": "stdout",
          "text": [
            "winery            0\n",
            "year            290\n",
            "rating            0\n",
            "num_reviews       0\n",
            "region            0\n",
            "price             0\n",
            "type            545\n",
            "body           1169\n",
            "acidity        1169\n",
            "dtype: int64\n"
          ]
        }
      ]
    },
    {
      "cell_type": "code",
      "source": [
        "# Identify categorical columns\n",
        "categorical_columns = df.select_dtypes(include=['object']).columns\n",
        "\n",
        "# Remove categories that appear less than 3%\n",
        "def remove_categories(df, column, threshold):\n",
        "    value_counts = df[column].value_counts(normalize=True)\n",
        "    remove_categories = value_counts[value_counts < threshold].index\n",
        "    df[column] = df[column].apply(lambda x: 'other' if x in remove_categories else x)\n",
        "\n",
        "# Iterate over categorical columns and remove categories below the threshold\n",
        "for column in categorical_columns:\n",
        "    remove_categories(df, column, 0.03)"
      ],
      "metadata": {
        "id": "SG0an40GnKth"
      },
      "execution_count": 80,
      "outputs": []
    },
    {
      "cell_type": "code",
      "source": [
        "# Convert 'type' column to categorical with three categories\n",
        "\n",
        "def simplify_wine_type(type_string):\n",
        "    type_string = type_string.lower()\n",
        "    if 'red' in type_string:\n",
        "        return 'red'\n",
        "    elif 'white' in type_string:\n",
        "        return 'white'\n",
        "    else:\n",
        "        return 'other'\n",
        "\n",
        "df['type'] = df['type'].apply(simplify_wine_type)"
      ],
      "metadata": {
        "id": "F-qiYpxHn23t"
      },
      "execution_count": 81,
      "outputs": []
    },
    {
      "cell_type": "code",
      "source": [
        "# Print the updated DataFrame\n",
        "print(df)"
      ],
      "metadata": {
        "id": "vSJH1dcEn6Nb",
        "outputId": "3330a1c8-4c11-43de-b72b-37078d60453f",
        "colab": {
          "base_uri": "https://localhost:8080/"
        }
      },
      "execution_count": 82,
      "outputs": [
        {
          "output_type": "stream",
          "name": "stdout",
          "text": [
            "           winery    year  rating  num_reviews            region   price  \\\n",
            "0           other  2013.0     4.9           58              Toro  995.00   \n",
            "1          Artadi  2018.0     4.9           31    Vino de Espana  313.50   \n",
            "2           other  2009.0     4.8         1793  Ribera del Duero  324.95   \n",
            "3           other  1999.0     4.8         1705  Ribera del Duero  692.96   \n",
            "4           other  1996.0     4.8         1309  Ribera del Duero  778.06   \n",
            "...           ...     ...     ...          ...               ...     ...   \n",
            "7495      Contino  2016.0     4.2          392             Rioja   19.98   \n",
            "7496        other  2018.0     4.2          390          Priorato   16.76   \n",
            "7497        other  2017.0     4.2          390             other   24.45   \n",
            "7498  Matarromera  2011.0     4.2          389  Ribera del Duero   64.50   \n",
            "7499     Sei Solo  2016.0     4.2          388  Ribera del Duero   31.63   \n",
            "\n",
            "       type  body  acidity  \n",
            "0       red   5.0      3.0  \n",
            "1     other   4.0      2.0  \n",
            "2       red   5.0      3.0  \n",
            "3       red   5.0      3.0  \n",
            "4       red   5.0      3.0  \n",
            "...     ...   ...      ...  \n",
            "7495    red   4.0      3.0  \n",
            "7496    red   4.0      3.0  \n",
            "7497    red   4.0      3.0  \n",
            "7498    red   5.0      3.0  \n",
            "7499    red   5.0      3.0  \n",
            "\n",
            "[7500 rows x 9 columns]\n"
          ]
        }
      ]
    },
    {
      "cell_type": "markdown",
      "source": [
        "# Drawing Insights from the data"
      ],
      "metadata": {
        "id": "y_O3aTNzfcL7"
      }
    },
    {
      "cell_type": "markdown",
      "source": [
        "## Heatmap"
      ],
      "metadata": {
        "id": "Mie6kaDgsnx_"
      }
    },
    {
      "cell_type": "code",
      "source": [
        "# Select a few features for simplicity\n",
        "simple_df = df[['body', 'acidity', 'price']]\n",
        "\n",
        "# Calculate the correlation matrix\n",
        "simple_corr = simple_df.corr()\n",
        "\n",
        "# Set up the matplotlib figure for size\n",
        "f, ax = plt.subplots(figsize=(9, 6))\n",
        "\n",
        "# Generate the heatmap\n",
        "sns.heatmap(simple_corr, annot=True, cmap=\"coolwarm\", linewidths=.5, ax=ax)\n",
        "\n",
        "# Give the plot a title\n",
        "plt.title('Relationship between the Body, Acidity, and Price of Wines')\n",
        "plt.show()"
      ],
      "metadata": {
        "id": "5mbdddaE6EBT",
        "outputId": "7f412265-2817-47f8-ae98-817c4c01a55f",
        "colab": {
          "base_uri": "https://localhost:8080/",
          "height": 545
        }
      },
      "execution_count": 83,
      "outputs": [
        {
          "output_type": "display_data",
          "data": {
            "text/plain": [
              "<Figure size 900x600 with 2 Axes>"
            ],
            "image/png": "[encoded data removed]"
          },
          "metadata": {}
        }
      ]
    },
    {
      "cell_type": "markdown",
      "source": [
        "### Insight\n",
        "\n",
        "This \"heatmap\"  tells us how things are related to each other. Starting on the left, we have 'body', 'acidity', and 'price'. These are different aspects of a wine.\n",
        "\n",
        "The 'body' is how heavy or light the wine feels in your mouth. The 'acidity' is how tart or sour the wine tastes. The 'price' is how much the wine costs.\n",
        "\n",
        "The boxes show how these aspects relate to each other. If a box is more blue, it means that when one thing goes up, the other tends to go down. If a box is more red, it means that when one thing goes up, the other tends to go up too. If the box is near white, it means the two things don't really affect each other.\n",
        "\n",
        "So, by looking at this picture, we can tell if making a wine more sour (higher acidity) tends to make it more expensive, lighter or heavier in body, and so on.\n",
        "\n",
        "Remember, this doesn't mean that making a wine more sour will definitely change its price or body. It just tells us what tends to happen with the wines we know about."
      ],
      "metadata": {
        "id": "p4vTz5I1ujeR"
      }
    },
    {
      "cell_type": "markdown",
      "source": [
        "## Scatter Plot"
      ],
      "metadata": {
        "id": "vPqjak5wtZf2"
      }
    },
    {
      "cell_type": "code",
      "source": [
        "plt.figure(figsize=(10,6))\n",
        "plt.scatter(df['price'], df['num_reviews'])\n",
        "plt.title('Price vs Number of Reviews')\n",
        "plt.xlabel('Price')\n",
        "plt.ylabel('Number of Reviews')\n",
        "plt.grid(True)\n",
        "plt.show()"
      ],
      "metadata": {
        "id": "AoAUtIue73J8",
        "outputId": "62dde977-fce3-43cc-943e-8b3ce03207f9",
        "colab": {
          "base_uri": "https://localhost:8080/",
          "height": 564
        }
      },
      "execution_count": 84,
      "outputs": [
        {
          "output_type": "display_data",
          "data": {
            "text/plain": [
              "<Figure size 1000x600 with 1 Axes>"
            ],
            "image/png": "[encoded data removed]"
          },
          "metadata": {}
        }
      ]
    },
    {
      "cell_type": "markdown",
      "source": [
        "### Insight\n",
        "\n",
        "The scatter plot is displaying the relationship between the price of each wine and the number of reviews it has received. Each dot on the plot represents an individual wine in our dataset.\n",
        "\n",
        "Looking at the plot, it seems that wines that are less expensive, or at lower price points, tend to have more reviews. This could be for a number of reasons. One possible explanation is that more affordable wines are more accessible to a larger number of people, and therefore are likely to be purchased and reviewed more often.\n",
        "\n",
        "Additionally, wines with a large number of reviews are likely popular, either due to their quality, their price point, or a combination of both. This popularity could drive further sales and reviews, creating a feedback loop that results in these wines having a significant number of reviews.\n",
        "\n",
        "Conversely, wines at higher price points seem to have fewer reviews. This may be due to them being less accessible due to their cost, resulting in fewer purchases and, subsequently, fewer reviews.\n",
        "\n",
        "However, it's important to remember that this is a broad trend, and there will be exceptions. For example, a high-priced wine could be extremely popular and have many reviews, or a low-priced wine might be less popular and have fewer reviews. Additionally, the quality of reviews (reflected in the rating) isn't accounted for in this plot - a wine with many reviews might have a low average rating, or a wine with few reviews might have a high average rating.\n",
        "\n",
        "Finally, note that this plot doesn't account for other factors that could influence the number of reviews a wine receives, such as its brand, age, type, or the region it's from."
      ],
      "metadata": {
        "id": "4ReKcw7S0eRB"
      }
    },
    {
      "cell_type": "markdown",
      "source": [
        "## Bar Plot"
      ],
      "metadata": {
        "id": "uidhBvVYtdUI"
      }
    },
    {
      "cell_type": "code",
      "source": [
        "average_ratings = df.groupby('type')['rating'].mean().sort_values(ascending=False)[:10]  # Selecting top 10\n",
        "types = average_ratings.index\n",
        "\n",
        "plt.figure(figsize=(12,8))  # Increasing size\n",
        "plt.bar(types, average_ratings)\n",
        "plt.title('Average Rating by Type of Wine')\n",
        "plt.xlabel('Type of Wine')\n",
        "plt.ylabel('Average Rating')\n",
        "plt.xticks(rotation=90)  # Rotating x-axis labels\n",
        "plt.ylim([min(average_ratings)-0.1, max(average_ratings)+0.1])  # Adjusting y limits\n",
        "plt.show()"
      ],
      "metadata": {
        "id": "KW9fr70W76QJ",
        "outputId": "a00bd9a4-6eb0-4b62-a55d-1e0dc317cc66",
        "colab": {
          "base_uri": "https://localhost:8080/",
          "height": 741
        }
      },
      "execution_count": 85,
      "outputs": [
        {
          "output_type": "display_data",
          "data": {
            "text/plain": [
              "<Figure size 1200x800 with 1 Axes>"
            ],
            "image/png": "[encoded data removed]"
          },
          "metadata": {}
        }
      ]
    },
    {
      "cell_type": "markdown",
      "source": [
        "### Insight\n",
        "\n",
        "The bar plot visualizes the average rating for each type of wine. Each bar in the plot represents a different type of wine, and the height of the bar corresponds to the average rating of that wine type.\n",
        "\n",
        "This plot simplifies the complex world of wines into broad categories. Many other factors like the winery, region, price, and individual preferences play a massive role in a wine's rating and aren't considered in this visualization.\n",
        "\n",
        "In summary, while this bar plot provides a clear overview of the average rating per wine type, it's just one piece of the puzzle in understanding the factors that contribute to a wine's rating."
      ],
      "metadata": {
        "id": "VDbIXDkC2Y-b"
      }
    },
    {
      "cell_type": "markdown",
      "source": [
        "# Modeling"
      ],
      "metadata": {
        "id": "Ao5Huq7Kb4Ne"
      }
    },
    {
      "cell_type": "code",
      "source": [
        "# Pre-Processing\n",
        "\n",
        "# Perform train-test split\n",
        "X = df.drop('rating', axis=1)\n",
        "y = df['rating']\n",
        "X_train, X_test, y_train, y_test = train_test_split(X, y, test_size=0.2, random_state=42)\n",
        "\n",
        "# Perform feature scaling\n",
        "numerical_features = ['year', 'num_reviews', 'price', 'body', 'acidity']\n",
        "categorical_features = ['winery', 'region', 'type']\n",
        "\n",
        "preprocessor = ColumnTransformer(\n",
        "    transformers=[\n",
        "        ('num', StandardScaler(), numerical_features),\n",
        "        ('cat', OneHotEncoder(), categorical_features)\n",
        "    ])\n",
        "\n",
        "# Define the pipeline with the preprocessor and regression model\n",
        "pipeline = Pipeline([\n",
        "    ('preprocessor', preprocessor),\n",
        "    ('regressor', LinearRegression())\n",
        "])\n",
        "\n",
        "# Fit the pipeline on the training data\n",
        "pipeline.fit(X_train, y_train)\n",
        "\n",
        "# Make predictions on the test data\n",
        "y_pred = pipeline.predict(X_test)\n",
        "\n",
        "# Evaluate the model\n",
        "mse = mean_squared_error(y_test, y_pred)\n",
        "mae = mean_absolute_error(y_test, y_pred)\n",
        "r2 = r2_score(y_test, y_pred)\n",
        "\n",
        "print('Mean Squared Error:', mse)\n",
        "print('Mean Absolute Error:', mae)\n",
        "print('R-squared:', r2)"
      ],
      "metadata": {
        "colab": {
          "base_uri": "https://localhost:8080/"
        },
        "id": "skKT3PNTSnnY",
        "outputId": "80470cfb-ae68-4a9f-b5f9-15480e9ea98b"
      },
      "execution_count": 86,
      "outputs": [
        {
          "output_type": "stream",
          "name": "stdout",
          "text": [
            "Mean Squared Error: 0.008183648308141486\n",
            "Mean Absolute Error: 0.05255271650975597\n",
            "R-squared: 0.4612698680760047\n"
          ]
        }
      ]
    },
    {
      "cell_type": "code",
      "source": [
        "# Define models\n",
        "models = [\n",
        "    ('Linear Regression', LinearRegression(), {}),\n",
        "    ('Decision Tree', DecisionTreeRegressor(), {'regressor__max_depth': [None, 5, 10]}),\n",
        "    ('Random Forest', RandomForestRegressor(), {'regressor__n_estimators': [100, 200, 300], 'regressor__max_depth': [None, 5, 10]})\n",
        "]\n",
        "\n",
        "# Iterate over models\n",
        "for model_name, model, params in models:\n",
        "    # Define the pipeline with preprocessor and model\n",
        "    pipeline = Pipeline([\n",
        "        ('preprocessor', preprocessor),\n",
        "        ('dim_reduction', TruncatedSVD()),  # Use TruncatedSVD instead of PCA\n",
        "        ('regressor', model)\n",
        "    ])\n",
        "\n",
        "    # GridSearchCV to tune hyperparameters\n",
        "    param_grid = {\n",
        "        'dim_reduction__n_components': [2, 5, 10]  # Vary the number of components for TruncatedSVD\n",
        "    }\n",
        "    param_grid.update(params)  # Add the model-specific parameters\n",
        "\n",
        "    grid_search = GridSearchCV(pipeline, param_grid, scoring='neg_mean_squared_error', cv=5)\n",
        "    grid_search.fit(X_train, y_train)\n",
        "\n",
        "    # Get best estimator\n",
        "    best_estimator = grid_search.best_estimator_\n",
        "\n",
        "    # Make predictions on training and test data\n",
        "    y_train_pred = best_estimator.predict(X_train)\n",
        "    y_test_pred = best_estimator.predict(X_test)\n",
        "\n",
        "    # Evaluate model with multiple metrics\n",
        "    mse_train = mean_squared_error(y_train, y_train_pred)\n",
        "    mse_test = mean_squared_error(y_test, y_test_pred)\n",
        "    mae_train = mean_absolute_error(y_train, y_train_pred)\n",
        "    mae_test = mean_absolute_error(y_test, y_test_pred)\n",
        "    r2_train = r2_score(y_train, y_train_pred)\n",
        "    r2_test = r2_score(y_test, y_test_pred)\n",
        "\n",
        "    # Display metrics\n",
        "    print(f\"Model: {model_name}\")\n",
        "    print(f\"Best Parameters: {grid_search.best_params_}\")\n",
        "    print(\"Train Set:\")\n",
        "    print(f\"MSE: {mse_train}\")\n",
        "    print(f\"MAE: {mae_train}\")\n",
        "    print(f\"R-squared: {r2_train}\")\n",
        "    print(\"Test Set:\")\n",
        "    print(f\"MSE: {mse_test}\")\n",
        "    print(f\"MAE: {mae_test}\")\n",
        "    print(f\"R-squared: {r2_test}\")\n",
        "    print(\"----------------------\")"
      ],
      "metadata": {
        "id": "3CtrbG3z3xnv",
        "outputId": "ede592d2-c9d9-44c4-c0ba-9ddb7c402db9",
        "colab": {
          "base_uri": "https://localhost:8080/"
        }
      },
      "execution_count": 87,
      "outputs": [
        {
          "output_type": "stream",
          "name": "stdout",
          "text": [
            "Model: Linear Regression\n",
            "Best Parameters: {'dim_reduction__n_components': 10}\n",
            "Train Set:\n",
            "MSE: 0.00813270782318153\n",
            "MAE: 0.059924151303582925\n",
            "R-squared: 0.40227867010385177\n",
            "Test Set:\n",
            "MSE: 0.008998880894522703\n",
            "MAE: 0.06266770781998475\n",
            "R-squared: 0.4076030507504159\n",
            "----------------------\n",
            "Model: Decision Tree\n",
            "Best Parameters: {'dim_reduction__n_components': 10, 'regressor__max_depth': 10}\n",
            "Train Set:\n",
            "MSE: 0.0012121414103439128\n",
            "MAE: 0.013292389058226701\n",
            "R-squared: 0.9109124793899799\n",
            "Test Set:\n",
            "MSE: 0.00427266899926395\n",
            "MAE: 0.027402058863557024\n",
            "R-squared: 0.7187299054199243\n",
            "----------------------\n",
            "Model: Random Forest\n",
            "Best Parameters: {'dim_reduction__n_components': 10, 'regressor__max_depth': None, 'regressor__n_estimators': 300}\n",
            "Train Set:\n",
            "MSE: 0.00040427900094520123\n",
            "MAE: 0.008000112433877871\n",
            "R-squared: 0.9702871187127537\n",
            "Test Set:\n",
            "MSE: 0.0032933811435865963\n",
            "MAE: 0.02449058571430135\n",
            "R-squared: 0.7831964924255966\n",
            "----------------------\n"
          ]
        }
      ]
    },
    {
      "cell_type": "markdown",
      "source": [
        "# Model Selection for Production\n",
        "\n",
        "After running our models to predict wine quality, we have found that the 'Random Forest' model outperforms the other two models we tested, 'Linear Regression' and 'Decision Tree'.\n",
        "\n",
        "To arrive at this decision, we used three key measurements: Mean Squared Error (MSE), Mean Absolute Error (MAE), and R-squared.\n",
        "\n",
        "- **Mean Squared Error (MSE)**: This is a measurement of how close our model's predictions are to the actual results. The smaller this number is, the better.\n",
        "\n",
        "- **Mean Absolute Error (MAE)**: This measures the average absolute difference between our model's predictions and the actual values. Again, the smaller this number is, the better.\n",
        "\n",
        "- **R-squared:** This tells us what percentage of the variations in wine quality our model is able to explain. A higher R-squared means our model can explain more of the variations and thus is more accurate.\n",
        "\n",
        "Our 'Random Forest' model delivered the smallest MSE and MAE and the highest R-squared on our test data, meaning it was the most accurate at predicting wine quality.\n",
        "\n",
        "The 'Random Forest' model had an R-squared value of approximately 0.78 on the test data, which implies that it can explain about 78% of the variability in wine quality based on the variables we included, such as year, number of reviews, price, body, acidity, etc.\n",
        "\n",
        "This model could be a valuable tool for our business. For example, we could use it to predict the quality of new wines we're considering for our portfolio based on known variables. This could help us make more informed decisions and potentially reduce the risk of investing in lower-quality wines. It also means we can provide our customers with better quality wines, which can improve customer satisfaction and loyalty.\n",
        "\n",
        "That being said, while our model is performing well, it's important to remember that no model is perfect and it should be used as a guide rather than a definitive predictor. We should continue to use our expert domain knowledge in the wine industry in conjunction with our model to make the best data informed decisions for our business."
      ],
      "metadata": {
        "id": "jHrd-ZZV-4VB"
      }
    }
  ]
}